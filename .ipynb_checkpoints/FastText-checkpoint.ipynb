{
 "cells": [
  {
   "cell_type": "markdown",
   "metadata": {},
   "source": [
    "# FastText\n",
    "\n",
    "Authors:\n",
    "* Aurelien ROUXEL\n",
    "* Ethan MACHAVOINE\n",
    "* Jonathan POELGER"
   ]
  },
  {
   "cell_type": "code",
   "execution_count": 3,
   "metadata": {},
   "outputs": [],
   "source": [
    "import datasets as ds\n",
    "import fasttext\n",
    "import numpy as np\n",
    "import string\n",
    "import random\n",
    "from sklearn.model_selection import train_test_split\n",
    "random.seed(42)"
   ]
  },
  {
   "cell_type": "code",
   "execution_count": 4,
   "metadata": {},
   "outputs": [
    {
     "name": "stderr",
     "output_type": "stream",
     "text": [
      "Found cached dataset imdb (/home/ethan/.cache/huggingface/datasets/imdb/plain_text/1.0.0/d613c88cf8fa3bab83b4ded3713f1f74830d1100e171db75bbddb80b3345c9c0)\n",
      "Found cached dataset imdb (/home/ethan/.cache/huggingface/datasets/imdb/plain_text/1.0.0/d613c88cf8fa3bab83b4ded3713f1f74830d1100e171db75bbddb80b3345c9c0)\n"
     ]
    }
   ],
   "source": [
    "ds_train = ds.load_dataset('imdb', split='train')\n",
    "ds_test = ds.load_dataset('imdb', split='test')"
   ]
  },
  {
   "cell_type": "markdown",
   "metadata": {},
   "source": [
    "### 1. Pretreatment"
   ]
  },
  {
   "cell_type": "code",
   "execution_count": 5,
   "metadata": {},
   "outputs": [],
   "source": [
    "def preprocessing(base_text: str):\n",
    "  \"\"\"\n",
    "  Preprocess the text before classification\n",
    "  Args:\n",
    "    base_text: the string to preprocess\n",
    "  Return:\n",
    "    The preprocessed text\n",
    "  \"\"\"\n",
    "  base_text = base_text.lower()\n",
    "  base_text = base_text.replace(\"<br />\",' ')\n",
    "  text = \"\"\n",
    "  ponct = string.punctuation\n",
    "  for char in base_text:\n",
    "    if char in ponct:\n",
    "      text += ' '\n",
    "    else:\n",
    "      text += char\n",
    "  return text"
   ]
  },
  {
   "cell_type": "code",
   "execution_count": 6,
   "metadata": {},
   "outputs": [],
   "source": [
    "def text_label(label):\n",
    "    if label == 0:\n",
    "        return \"negative\"\n",
    "    return \"positive\""
   ]
  },
  {
   "cell_type": "code",
   "execution_count": 7,
   "metadata": {},
   "outputs": [],
   "source": [
    "train_set = [f\"__label__{text_label(text['label'])} {preprocessing(text['text'])}\\n\" for text in ds_train]\n",
    "test_set = [f\"__label__{text_label(text['label'])} {preprocessing(text['text'])}\\n\" for text in ds_test]\n",
    "random.shuffle(train_set)\n",
    "random.shuffle(test_set)"
   ]
  },
  {
   "cell_type": "code",
   "execution_count": 8,
   "metadata": {},
   "outputs": [],
   "source": [
    "with open(\"imdb.train\", \"w\") as f:\n",
    "    f.writelines(train_set)\n",
    "with open(\"imdb.test\", \"w\") as f:\n",
    "    f.writelines(test_set)"
   ]
  },
  {
   "cell_type": "markdown",
   "metadata": {},
   "source": [
    "### 2. Train a FastText classifier"
   ]
  },
  {
   "cell_type": "code",
   "execution_count": 9,
   "metadata": {},
   "outputs": [
    {
     "name": "stderr",
     "output_type": "stream",
     "text": [
      "Read 6M words\n",
      "Number of words:  75900\n",
      "Number of labels: 2\n",
      "Progress: 100.0% words/sec/thread: 4541135 lr:  0.000000 avg.loss:  0.388679 ETA:   0h 0m 0s\n"
     ]
    }
   ],
   "source": [
    "model = fasttext.train_supervised(input=\"imdb.train\")"
   ]
  },
  {
   "cell_type": "markdown",
   "metadata": {},
   "source": [
    "Results:\n",
    "* Read 5M words\n",
    "* Number of words:  75900\n",
    "* Number of labels: 2\n",
    "* Progress: 100.0% words/sec/thread: 4541135 lr:  0.000000 avg.loss:  0.388679 ETA:   0h 0m 0s"
   ]
  },
  {
   "cell_type": "code",
   "execution_count": 10,
   "metadata": {},
   "outputs": [],
   "source": [
    "def get_true_values(model, test_set):\n",
    "    values = 0\n",
    "    for text in test_set:\n",
    "        label = text[:17]\n",
    "        predict = model.predict(text[:-1])[0][0]\n",
    "        if label == predict:\n",
    "            values += 1\n",
    "    return values\n",
    "\n",
    "def compute_accuracy(model, test_set):\n",
    "    tn_fn = get_true_values(model, test_set)\n",
    "    samples, _, _ = model.test(\"imdb.test\")\n",
    "    return tn_fn / samples"
   ]
  },
  {
   "cell_type": "code",
   "execution_count": 11,
   "metadata": {},
   "outputs": [
    {
     "name": "stdout",
     "output_type": "stream",
     "text": [
      "Accuracy: 0.879\n"
     ]
    }
   ],
   "source": [
    "accuracy = compute_accuracy(model, test_set)\n",
    "print(f\"Accuracy: {accuracy}\")"
   ]
  },
  {
   "cell_type": "markdown",
   "metadata": {},
   "source": [
    "Result:\n",
    "* Accuracy: 0.879"
   ]
  },
  {
   "cell_type": "markdown",
   "metadata": {},
   "source": [
    "### 3. Use the hyperparameters search functionality"
   ]
  },
  {
   "cell_type": "code",
   "execution_count": 12,
   "metadata": {},
   "outputs": [],
   "source": [
    "training_set, validation_set = train_test_split(train_set, test_size=0.2, random_state=42)\n",
    "random.shuffle(training_set)\n",
    "random.shuffle(validation_set)"
   ]
  },
  {
   "cell_type": "code",
   "execution_count": 13,
   "metadata": {},
   "outputs": [],
   "source": [
    "with open(\"imdb.training.hyperparameter\", \"w\") as f:\n",
    "    f.writelines(training_set)\n",
    "with open(\"imdb.validation.hyperparameter\", \"w\") as f:\n",
    "    f.writelines(validation_set)"
   ]
  },
  {
   "cell_type": "code",
   "execution_count": 14,
   "metadata": {},
   "outputs": [
    {
     "name": "stderr",
     "output_type": "stream",
     "text": [
      "Progress: 100.0% Trials:   11 Best score:  0.899000 ETA:   0h 0m 0s\n",
      "Training again with best arguments\n",
      "Read 4M words\n",
      "Number of words:  69077\n",
      "Number of labels: 2\n",
      "Progress: 100.0% words/sec/thread: 1881838 lr:  0.000000 avg.loss:  0.043658 ETA:   0h 0m 0s\n"
     ]
    }
   ],
   "source": [
    "model = fasttext.train_supervised(input='imdb.training.hyperparameter'\n",
    "                                  , autotuneValidationFile='imdb.validation.hyperparameter')"
   ]
  },
  {
   "cell_type": "markdown",
   "metadata": {},
   "source": [
    "Results:\n",
    "* Progress: 100.0% Trials:   11 Best score:  0.899000 ETA:   0h 0m 0s\n",
    "* Training again with best arguments\n",
    "* Read 4M words\n",
    "* Number of words:  69077\n",
    "* Number of labels: 2\n",
    "* Progress: 100.0% words/sec/thread: 1881838 lr:  0.000000 avg.loss:  0.043658 ETA:   0h 0m 0s"
   ]
  },
  {
   "cell_type": "code",
   "execution_count": 15,
   "metadata": {},
   "outputs": [
    {
     "name": "stdout",
     "output_type": "stream",
     "text": [
      "Accuracy: 0.89588\n"
     ]
    }
   ],
   "source": [
    "accuracy = compute_accuracy(model, test_set)\n",
    "print(f\"Accuracy: {accuracy}\")"
   ]
  },
  {
   "cell_type": "markdown",
   "metadata": {},
   "source": [
    "Result:\n",
    "* Accuracy: 0.89588"
   ]
  },
  {
   "cell_type": "markdown",
   "metadata": {},
   "source": [
    "### 4. Look at the differences between the 2 models"
   ]
  },
  {
   "cell_type": "code",
   "execution_count": null,
   "metadata": {},
   "outputs": [],
   "source": []
  }
 ],
 "metadata": {
  "kernelspec": {
   "display_name": "Python 3 (ipykernel)",
   "language": "python",
   "name": "python3"
  },
  "language_info": {
   "codemirror_mode": {
    "name": "ipython",
    "version": 3
   },
   "file_extension": ".py",
   "mimetype": "text/x-python",
   "name": "python",
   "nbconvert_exporter": "python",
   "pygments_lexer": "ipython3",
   "version": "3.10.10"
  }
 },
 "nbformat": 4,
 "nbformat_minor": 2
}
